{
 "cells": [
  {
   "cell_type": "markdown",
   "metadata": {},
   "source": [
    "# Modelado"
   ]
  },
  {
   "cell_type": "code",
   "execution_count": 468,
   "metadata": {},
   "outputs": [],
   "source": [
    "# Bibliotecas para Modelos de Machine Learning\n",
    "from sklearn.ensemble import (RandomForestClassifier, GradientBoostingClassifier,\n",
    "                              ExtraTreesClassifier, AdaBoostClassifier, VotingClassifier)\n",
    "from sklearn.linear_model import LogisticRegression\n",
    "from sklearn.tree import DecisionTreeClassifier\n",
    "import xgboost as xgb\n",
    "from catboost import CatBoostClassifier\n",
    "\n",
    "# Bibliotecas para Manipulación de Datos y Análisis\n",
    "import pandas as pd  # Manipulación de datos\n",
    "import numpy as np  # Cálculo numérico\n",
    "\n",
    "# Reducción de Dimensionalidad\n",
    "from sklearn.decomposition import PCA\n",
    "\n",
    "# Evaluación de Modelos\n",
    "from sklearn.metrics import mean_squared_error, accuracy_score, r2_score\n",
    "\n",
    "# Búsqueda de Hiperparámetros y Validación Cruzada\n",
    "from sklearn.model_selection import GridSearchCV, train_test_split\n",
    "from sklearn.pipeline import Pipeline  # Creación de pipelines\n",
    "\n",
    "# Otras Bibliotecas\n",
    "import joblib  # Serialización de modelos\n",
    "import matplotlib.pyplot as plt  # Visualización"
   ]
  },
  {
   "cell_type": "markdown",
   "metadata": {},
   "source": [
    "## Funciones para entrenamiento y testeo"
   ]
  },
  {
   "cell_type": "code",
   "execution_count": 469,
   "metadata": {},
   "outputs": [],
   "source": [
    "def grid_search_function(model, param_grid, X_train, y_train, pca_components=[0.50, 0.99], cv=2):\n",
    "    \"\"\"\n",
    "    Realiza una búsqueda en cuadrícula (grid search) con validación cruzada\n",
    "    para encontrar los mejores parámetros de un modelo de aprendizaje automático.\n",
    "\n",
    "    Parámetros:\n",
    "    - model: El modelo de aprendizaje automático a utilizar.\n",
    "    - param_grid (dict): Diccionario de parámetros a probar en la búsqueda en cuadrícula.\n",
    "    - X_train (array-like): Datos de entrenamiento.\n",
    "    - y_train (array-like): Etiquetas de entrenamiento.\n",
    "    - pca_components (list, opcional): Lista de componentes principales (PCA) a probar.\n",
    "      Predeterminado: [0.50, 0.99]\n",
    "    - cv (int, opcional): Número de divisiones para la validación cruzada. Predeterminado: 2.\n",
    "\n",
    "    Retorna:\n",
    "    tuple: Una tupla que contiene los mejores parámetros, la mejor puntuación,\n",
    "    el mejor estimador y los resultados de la validación cruzada.\n",
    "    \"\"\"\n",
    "    # Configura el pipeline con las funciones de PCA y el modelo de aprendizaje automático\n",
    "    pipeline = Pipeline([\n",
    "        ('pca', PCA()),\n",
    "        ('classify', model)\n",
    "    ])\n",
    "\n",
    "    # Realiza la búsqueda en cuadrícula con validación cruzada utilizando el pipeline anterior\n",
    "    # y los parámetros del modelo específico\n",
    "    grid_search = GridSearchCV(pipeline, param_grid, cv=cv, n_jobs=-1)\n",
    "    grid_search.fit(X_train, y_train)\n",
    "\n",
    "    # Obtiene los mejores parámetros del modelo específico\n",
    "    best_params = grid_search.best_params_\n",
    "\n",
    "    # Elimina el prefijo 'classify__' de todas las claves\n",
    "    best_params = {key.replace('classify__', '', 1): value for key, value in best_params.items()}\n",
    "\n",
    "    return best_params"
   ]
  },
  {
   "cell_type": "code",
   "execution_count": 470,
   "metadata": {},
   "outputs": [],
   "source": [
    "def train(model, best_params=None):\n",
    "    \"\"\"\n",
    "    Entrena un modelo de aprendizaje automático, opcionalmente utilizando los mejores\n",
    "    parámetros obtenidos de una búsqueda en cuadrícula (grid search).\n",
    "\n",
    "    Parámetros:\n",
    "    - model: El modelo de aprendizaje automático a entrenar.\n",
    "    - best_params (dict, opcional): Diccionario con los mejores parámetros para el modelo.\n",
    "      Si no se proporciona, se entrenará el modelo con los parámetros predeterminados.\n",
    "\n",
    "    Retorna:\n",
    "    - El modelo entrenado.\n",
    "    \"\"\"\n",
    "    # Si se proporcionan los mejores parámetros, se establecen en el modelo\n",
    "    if best_params is not None:\n",
    "        model.set_params(**best_params)\n",
    "\n",
    "    # Entrena el modelo con los datos de entrenamiento\n",
    "    return model.fit(X_train, y_train)"
   ]
  },
  {
   "cell_type": "code",
   "execution_count": 471,
   "metadata": {},
   "outputs": [],
   "source": [
    "def test(model, is_classification=False):\n",
    "    \"\"\"\n",
    "    Evalúa el rendimiento de un modelo de aprendizaje automático en un conjunto de prueba.\n",
    "    Puede manejar tanto modelos de clasificación como de regresión.\n",
    "\n",
    "    Parámetros:\n",
    "    - model: El modelo de aprendizaje automático a evaluar.\n",
    "    - is_classification (bool, opcional): Indica si el modelo es de clasificación.\n",
    "      Predeterminado: False (regresión).\n",
    "\n",
    "    Retorna:\n",
    "    - y_pred: Las predicciones del modelo en el conjunto de prueba.\n",
    "    \"\"\"\n",
    "    # Realiza las predicciones del modelo en el conjunto de prueba\n",
    "    y_pred = model.predict(X_test)\n",
    "\n",
    "    # Si el modelo es de clasificación, calcula y muestra la precisión\n",
    "    if is_classification:\n",
    "        acc = accuracy_score(y_test, y_pred)\n",
    "        print(f\"Precisión del modelo: {acc}\")\n",
    "    # Si el modelo es de regresión, calcula y muestra el error cuadrático medio y el R²\n",
    "    else:\n",
    "        mse = mean_squared_error(y_test, y_pred)\n",
    "        r2 = r2_score(y_test, y_pred)\n",
    "        print(f'Error Cuadrático Medio en el conjunto de prueba: {mse:.2f}')\n",
    "        print(f'Coeficiente de Determinación (R²): {r2:.2f}')\n",
    "\n",
    "    return y_pred"
   ]
  },
  {
   "cell_type": "code",
   "execution_count": 472,
   "metadata": {},
   "outputs": [],
   "source": [
    "def build_model(hp):\n",
    "    model = Sequential()\n",
    "    # Añadimos una capa de entrada con el tamaño del input_shape definido en el dataset\n",
    "    model.add(layers.Input(shape=(input_shape,)))\n",
    "    \n",
    "    # Selecciona el número de capas ocultas (1 a 3)\n",
    "    for i in range(hp.Int('num_layers', 1, 3)):\n",
    "        # Tamaño de la capa oculta (32 a 512, potencias de 2)\n",
    "        model.add(layers.Dense(\n",
    "            units=hp.Int(f'units_{i}', min_value=32, max_value=128, step=32),\n",
    "            activation=hp.Choice('activation', ['relu', 'tanh', 'leaky_relu'])\n",
    "        ))\n",
    "        # Posible dropout para regularización\n",
    "        if hp.Boolean(f'use_dropout_{i}'):\n",
    "            model.add(layers.Dropout(rate=hp.Float(f'dropout_rate_{i}', 0.1, 0.5, step=0.1)))\n",
    "    \n",
    "    # Capa de salida (1 unidad para regresión, num_classes para clasificación)\n",
    "    if task == \"regression\":\n",
    "        model.add(layers.Dense(1, activation='linear'))\n",
    "        loss = 'mse'\n",
    "        metrics = ['mae']\n",
    "    elif task == \"classification\":\n",
    "        model.add(layers.Dense(num_classes, activation='sigmoid'))\n",
    "        loss = 'binary_crossentropy'\n",
    "        metrics = ['accuracy', 'Precision']\n",
    "\n",
    "    # Compilación del modelo\n",
    "    model.compile(\n",
    "        optimizer=optimizers.Adam(\n",
    "            learning_rate=hp.Choice('learning_rate', [0.009, 0.09, 0.9])\n",
    "        ),\n",
    "        loss=loss,\n",
    "        metrics=metrics\n",
    "    )\n",
    "    return model"
   ]
  },
  {
   "cell_type": "code",
   "execution_count": 473,
   "metadata": {},
   "outputs": [],
   "source": [
    "def train_test_val_split(X_df:pd.DataFrame, y_df:pd.DataFrame):\n",
    "    # Divido las variable target y el resto de variables en testeo y prueba \n",
    "    # 1. Para el subconjunto de entrenamiento se utiliza un 80% de los datos\n",
    "    # 2. Para el subconjunto de prueba se utiliza un 20% de los datos\n",
    "    X_train, X_test, y_train, y_test = train_test_split(X, y, test_size=0.20, random_state=42)\n",
    "    # Divido las variable target y el resto de variables en los conjuntos de prueba en dos subconjuntos\n",
    "    # 1. Subconjunto de prueba urilizando un 50% para cada sub conjunto\n",
    "    # 2. Subconjunto de validacion urilizando un 50% para cada sub conjunto\n",
    "    X_test, X_val, y_test, y_val = train_test_split(X_test, y_test, test_size=0.50, random_state=42)\n",
    "\n",
    "    return X_train, X_test, X_val, y_train, y_test, y_val"
   ]
  },
  {
   "cell_type": "markdown",
   "metadata": {},
   "source": [
    "### Importacion de datos"
   ]
  },
  {
   "cell_type": "code",
   "execution_count": 474,
   "metadata": {},
   "outputs": [],
   "source": [
    "path_df_estandarizado_escalado = '../data/silver/df_estandarizado_escalado.csv'\n",
    "df_estandarizado_escalado = pd.read_csv(path_df_estandarizado_escalado)"
   ]
  },
  {
   "cell_type": "code",
   "execution_count": 475,
   "metadata": {},
   "outputs": [],
   "source": [
    "df_estandarizado_escalado = df_estandarizado_escalado.sample(frac=1, random_state=12)"
   ]
  },
  {
   "cell_type": "markdown",
   "metadata": {},
   "source": [
    "### Separacion de datos"
   ]
  },
  {
   "cell_type": "code",
   "execution_count": 476,
   "metadata": {},
   "outputs": [],
   "source": [
    "# separo las las variables de la variable target\n",
    "X = df_estandarizado_escalado.drop(columns=['subscribed_encoded'])\n",
    "y = df_estandarizado_escalado['subscribed_encoded']"
   ]
  },
  {
   "cell_type": "code",
   "execution_count": 477,
   "metadata": {},
   "outputs": [],
   "source": [
    "X_train, X_test, X_val, y_train, y_test, y_val = train_test_val_split(X_df=X, y_df=y)"
   ]
  },
  {
   "cell_type": "markdown",
   "metadata": {},
   "source": [
    "### Instancia y evaluacion de modelos"
   ]
  },
  {
   "cell_type": "markdown",
   "metadata": {},
   "source": [
    "#### Bagging"
   ]
  },
  {
   "cell_type": "markdown",
   "metadata": {},
   "source": [
    "**Modelo 1: Bosques aleatorios:**"
   ]
  },
  {
   "cell_type": "code",
   "execution_count": 478,
   "metadata": {},
   "outputs": [],
   "source": [
    "# creo instancia del modelo random forest\n",
    "random_forest_model = RandomForestClassifier()\n",
    "\n",
    "# Parametros y rango de valores para el modelo de random forest\n",
    "random_forest_params_grid = {\n",
    "    'classify__max_depth': [None, 5, 10],\n",
    "    'classify__min_samples_split': [2, 5, 10],\n",
    "    'classify__min_samples_leaf': [1, 2, 4],\n",
    "    'classify__ccp_alpha': [0.0, 0.1, 0.2]\n",
    "}"
   ]
  },
  {
   "cell_type": "code",
   "execution_count": 479,
   "metadata": {},
   "outputs": [],
   "source": [
    "# obtengo los mejores parametros desde grid search\n",
    "random_forest_best_params_grid = grid_search_function(model= random_forest_model, param_grid=random_forest_params_grid, X_train=X_train, y_train=y_train)"
   ]
  },
  {
   "cell_type": "code",
   "execution_count": 480,
   "metadata": {},
   "outputs": [],
   "source": [
    "# entreno el modelo con los mejores parametros previamente obtenidos\n",
    "random_forest_model = train(random_forest_model, random_forest_best_params_grid)"
   ]
  },
  {
   "cell_type": "code",
   "execution_count": 481,
   "metadata": {},
   "outputs": [
    {
     "name": "stdout",
     "output_type": "stream",
     "text": [
      "Precisión del modelo: 0.9011896091284293\n"
     ]
    }
   ],
   "source": [
    "# obtengo las predicciones del modelo\n",
    "y_pred = test(random_forest_model, is_classification=True)"
   ]
  },
  {
   "cell_type": "markdown",
   "metadata": {},
   "source": [
    "**Modelo 2: Extra Trees**"
   ]
  },
  {
   "cell_type": "code",
   "execution_count": 482,
   "metadata": {},
   "outputs": [],
   "source": [
    "# instancia del modelo extratrees\n",
    "extra_trees_model = ExtraTreesClassifier()\n",
    "\n",
    "# Define los parámetros a optimizar\n",
    "extra_trees_params_grid = {\n",
    "    'classify__n_estimators': [100, 200],\n",
    "    'classify__max_depth': [None, 10, 20],\n",
    "    'classify__min_samples_split': [2, 5],\n",
    "    'classify__min_samples_leaf': [1, 2],\n",
    "    'classify__max_features': ['auto', 'sqrt'],\n",
    "    'classify__bootstrap': [False, True]\n",
    "}"
   ]
  },
  {
   "cell_type": "code",
   "execution_count": 483,
   "metadata": {},
   "outputs": [
    {
     "name": "stderr",
     "output_type": "stream",
     "text": [
      "/Users/cristianariel/miniconda3/lib/python3.12/site-packages/sklearn/model_selection/_validation.py:540: FitFailedWarning: \n",
      "96 fits failed out of a total of 192.\n",
      "The score on these train-test partitions for these parameters will be set to nan.\n",
      "If these failures are not expected, you can try to debug them by setting error_score='raise'.\n",
      "\n",
      "Below are more details about the failures:\n",
      "--------------------------------------------------------------------------------\n",
      "62 fits failed with the following error:\n",
      "Traceback (most recent call last):\n",
      "  File \"/Users/cristianariel/miniconda3/lib/python3.12/site-packages/sklearn/model_selection/_validation.py\", line 888, in _fit_and_score\n",
      "    estimator.fit(X_train, y_train, **fit_params)\n",
      "  File \"/Users/cristianariel/miniconda3/lib/python3.12/site-packages/sklearn/base.py\", line 1473, in wrapper\n",
      "    return fit_method(estimator, *args, **kwargs)\n",
      "           ^^^^^^^^^^^^^^^^^^^^^^^^^^^^^^^^^^^^^^\n",
      "  File \"/Users/cristianariel/miniconda3/lib/python3.12/site-packages/sklearn/pipeline.py\", line 473, in fit\n",
      "    self._final_estimator.fit(Xt, y, **last_step_params[\"fit\"])\n",
      "  File \"/Users/cristianariel/miniconda3/lib/python3.12/site-packages/sklearn/base.py\", line 1466, in wrapper\n",
      "    estimator._validate_params()\n",
      "  File \"/Users/cristianariel/miniconda3/lib/python3.12/site-packages/sklearn/base.py\", line 666, in _validate_params\n",
      "    validate_parameter_constraints(\n",
      "  File \"/Users/cristianariel/miniconda3/lib/python3.12/site-packages/sklearn/utils/_param_validation.py\", line 95, in validate_parameter_constraints\n",
      "    raise InvalidParameterError(\n",
      "sklearn.utils._param_validation.InvalidParameterError: The 'max_features' parameter of ExtraTreesClassifier must be an int in the range [1, inf), a float in the range (0.0, 1.0], a str among {'log2', 'sqrt'} or None. Got 'auto' instead.\n",
      "\n",
      "--------------------------------------------------------------------------------\n",
      "34 fits failed with the following error:\n",
      "Traceback (most recent call last):\n",
      "  File \"/Users/cristianariel/miniconda3/lib/python3.12/site-packages/sklearn/model_selection/_validation.py\", line 888, in _fit_and_score\n",
      "    estimator.fit(X_train, y_train, **fit_params)\n",
      "  File \"/Users/cristianariel/miniconda3/lib/python3.12/site-packages/sklearn/base.py\", line 1473, in wrapper\n",
      "    return fit_method(estimator, *args, **kwargs)\n",
      "           ^^^^^^^^^^^^^^^^^^^^^^^^^^^^^^^^^^^^^^\n",
      "  File \"/Users/cristianariel/miniconda3/lib/python3.12/site-packages/sklearn/pipeline.py\", line 473, in fit\n",
      "    self._final_estimator.fit(Xt, y, **last_step_params[\"fit\"])\n",
      "  File \"/Users/cristianariel/miniconda3/lib/python3.12/site-packages/sklearn/base.py\", line 1466, in wrapper\n",
      "    estimator._validate_params()\n",
      "  File \"/Users/cristianariel/miniconda3/lib/python3.12/site-packages/sklearn/base.py\", line 666, in _validate_params\n",
      "    validate_parameter_constraints(\n",
      "  File \"/Users/cristianariel/miniconda3/lib/python3.12/site-packages/sklearn/utils/_param_validation.py\", line 95, in validate_parameter_constraints\n",
      "    raise InvalidParameterError(\n",
      "sklearn.utils._param_validation.InvalidParameterError: The 'max_features' parameter of ExtraTreesClassifier must be an int in the range [1, inf), a float in the range (0.0, 1.0], a str among {'sqrt', 'log2'} or None. Got 'auto' instead.\n",
      "\n",
      "  warnings.warn(some_fits_failed_message, FitFailedWarning)\n",
      "/Users/cristianariel/miniconda3/lib/python3.12/site-packages/sklearn/model_selection/_search.py:1102: UserWarning: One or more of the test scores are non-finite: [       nan        nan        nan        nan        nan        nan\n",
      "        nan        nan 0.88179059 0.88224583 0.88907436 0.88949924\n",
      " 0.89490137 0.89477997 0.89614568 0.89490137        nan        nan\n",
      "        nan        nan        nan        nan        nan        nan\n",
      " 0.89538695 0.89614568 0.8952352  0.89593323 0.89477997 0.89572079\n",
      " 0.89599393 0.89575114        nan        nan        nan        nan\n",
      "        nan        nan        nan        nan 0.89456753 0.89414264\n",
      " 0.89550835 0.89578149 0.89641882 0.89699545 0.89650986 0.89663126\n",
      "        nan        nan        nan        nan        nan        nan\n",
      "        nan        nan 0.8876783  0.88810319 0.89538695 0.89508346\n",
      " 0.89672231 0.89666161 0.89681335 0.89714719        nan        nan\n",
      "        nan        nan        nan        nan        nan        nan\n",
      " 0.89617602 0.89578149 0.89526555 0.89635812 0.89566009 0.89559939\n",
      " 0.89572079 0.89566009        nan        nan        nan        nan\n",
      "        nan        nan        nan        nan 0.89553869 0.89581184\n",
      " 0.89608498 0.89735964 0.89738998 0.89723824 0.8969651  0.89766313]\n",
      "  warnings.warn(\n"
     ]
    }
   ],
   "source": [
    "extra_trees_best_params_grid = grid_search_function(model= extra_trees_model, param_grid=extra_trees_params_grid, X_train=X_train, y_train=y_train)"
   ]
  },
  {
   "cell_type": "code",
   "execution_count": 484,
   "metadata": {},
   "outputs": [],
   "source": [
    "extra_trees_model = train(model=extra_trees_model, best_params=extra_trees_best_params_grid)"
   ]
  },
  {
   "cell_type": "code",
   "execution_count": 485,
   "metadata": {},
   "outputs": [
    {
     "name": "stdout",
     "output_type": "stream",
     "text": [
      "Precisión del modelo: 0.9009468317552805\n"
     ]
    }
   ],
   "source": [
    "y_pred = test(model=extra_trees_model, is_classification=True)"
   ]
  },
  {
   "cell_type": "markdown",
   "metadata": {},
   "source": [
    "#### Boosting"
   ]
  },
  {
   "cell_type": "markdown",
   "metadata": {},
   "source": [
    "**Modelo 1: AdaBoost**"
   ]
  },
  {
   "cell_type": "code",
   "execution_count": 486,
   "metadata": {},
   "outputs": [],
   "source": [
    "# Define el modelo base y el modelo AdaBoost\n",
    "base_estimator = DecisionTreeClassifier()\n",
    "AdaBoostClassifier_model = AdaBoostClassifier(estimator=base_estimator)\n",
    "\n",
    "# Define los parámetros a optimizar\n",
    "ada_boost_params_grid = {\n",
    "    'classify__n_estimators': [50, 100, 200],\n",
    "    'classify__learning_rate': [0.01, 0.1, 0.5, 1.0],\n",
    "    'classify__estimator__max_depth': [1, 2, 3],\n",
    "    'classify__algorithm': ['SAMME', 'SAMME.R']\n",
    "}"
   ]
  },
  {
   "cell_type": "code",
   "execution_count": 487,
   "metadata": {},
   "outputs": [
    {
     "name": "stderr",
     "output_type": "stream",
     "text": [
      "/Users/cristianariel/miniconda3/lib/python3.12/site-packages/sklearn/ensemble/_weight_boosting.py:527: FutureWarning: The SAMME.R algorithm (the default) is deprecated and will be removed in 1.6. Use the SAMME algorithm to circumvent this warning.\n",
      "  warnings.warn(\n",
      "/Users/cristianariel/miniconda3/lib/python3.12/site-packages/sklearn/ensemble/_weight_boosting.py:527: FutureWarning: The SAMME.R algorithm (the default) is deprecated and will be removed in 1.6. Use the SAMME algorithm to circumvent this warning.\n",
      "  warnings.warn(\n",
      "/Users/cristianariel/miniconda3/lib/python3.12/site-packages/sklearn/ensemble/_weight_boosting.py:527: FutureWarning: The SAMME.R algorithm (the default) is deprecated and will be removed in 1.6. Use the SAMME algorithm to circumvent this warning.\n",
      "  warnings.warn(\n",
      "/Users/cristianariel/miniconda3/lib/python3.12/site-packages/sklearn/ensemble/_weight_boosting.py:527: FutureWarning: The SAMME.R algorithm (the default) is deprecated and will be removed in 1.6. Use the SAMME algorithm to circumvent this warning.\n",
      "  warnings.warn(\n",
      "/Users/cristianariel/miniconda3/lib/python3.12/site-packages/sklearn/ensemble/_weight_boosting.py:527: FutureWarning: The SAMME.R algorithm (the default) is deprecated and will be removed in 1.6. Use the SAMME algorithm to circumvent this warning.\n",
      "  warnings.warn(\n",
      "/Users/cristianariel/miniconda3/lib/python3.12/site-packages/sklearn/ensemble/_weight_boosting.py:527: FutureWarning: The SAMME.R algorithm (the default) is deprecated and will be removed in 1.6. Use the SAMME algorithm to circumvent this warning.\n",
      "  warnings.warn(\n",
      "/Users/cristianariel/miniconda3/lib/python3.12/site-packages/sklearn/ensemble/_weight_boosting.py:527: FutureWarning: The SAMME.R algorithm (the default) is deprecated and will be removed in 1.6. Use the SAMME algorithm to circumvent this warning.\n",
      "  warnings.warn(\n",
      "/Users/cristianariel/miniconda3/lib/python3.12/site-packages/sklearn/ensemble/_weight_boosting.py:527: FutureWarning: The SAMME.R algorithm (the default) is deprecated and will be removed in 1.6. Use the SAMME algorithm to circumvent this warning.\n",
      "  warnings.warn(\n",
      "/Users/cristianariel/miniconda3/lib/python3.12/site-packages/sklearn/ensemble/_weight_boosting.py:527: FutureWarning: The SAMME.R algorithm (the default) is deprecated and will be removed in 1.6. Use the SAMME algorithm to circumvent this warning.\n",
      "  warnings.warn(\n",
      "/Users/cristianariel/miniconda3/lib/python3.12/site-packages/sklearn/ensemble/_weight_boosting.py:527: FutureWarning: The SAMME.R algorithm (the default) is deprecated and will be removed in 1.6. Use the SAMME algorithm to circumvent this warning.\n",
      "  warnings.warn(\n",
      "/Users/cristianariel/miniconda3/lib/python3.12/site-packages/sklearn/ensemble/_weight_boosting.py:527: FutureWarning: The SAMME.R algorithm (the default) is deprecated and will be removed in 1.6. Use the SAMME algorithm to circumvent this warning.\n",
      "  warnings.warn(\n",
      "/Users/cristianariel/miniconda3/lib/python3.12/site-packages/sklearn/ensemble/_weight_boosting.py:527: FutureWarning: The SAMME.R algorithm (the default) is deprecated and will be removed in 1.6. Use the SAMME algorithm to circumvent this warning.\n",
      "  warnings.warn(\n",
      "/Users/cristianariel/miniconda3/lib/python3.12/site-packages/sklearn/ensemble/_weight_boosting.py:527: FutureWarning: The SAMME.R algorithm (the default) is deprecated and will be removed in 1.6. Use the SAMME algorithm to circumvent this warning.\n",
      "  warnings.warn(\n",
      "/Users/cristianariel/miniconda3/lib/python3.12/site-packages/sklearn/ensemble/_weight_boosting.py:527: FutureWarning: The SAMME.R algorithm (the default) is deprecated and will be removed in 1.6. Use the SAMME algorithm to circumvent this warning.\n",
      "  warnings.warn(\n",
      "/Users/cristianariel/miniconda3/lib/python3.12/site-packages/sklearn/ensemble/_weight_boosting.py:527: FutureWarning: The SAMME.R algorithm (the default) is deprecated and will be removed in 1.6. Use the SAMME algorithm to circumvent this warning.\n",
      "  warnings.warn(\n",
      "/Users/cristianariel/miniconda3/lib/python3.12/site-packages/sklearn/ensemble/_weight_boosting.py:527: FutureWarning: The SAMME.R algorithm (the default) is deprecated and will be removed in 1.6. Use the SAMME algorithm to circumvent this warning.\n",
      "  warnings.warn(\n",
      "/Users/cristianariel/miniconda3/lib/python3.12/site-packages/sklearn/ensemble/_weight_boosting.py:527: FutureWarning: The SAMME.R algorithm (the default) is deprecated and will be removed in 1.6. Use the SAMME algorithm to circumvent this warning.\n",
      "  warnings.warn(\n",
      "/Users/cristianariel/miniconda3/lib/python3.12/site-packages/sklearn/ensemble/_weight_boosting.py:527: FutureWarning: The SAMME.R algorithm (the default) is deprecated and will be removed in 1.6. Use the SAMME algorithm to circumvent this warning.\n",
      "  warnings.warn(\n",
      "/Users/cristianariel/miniconda3/lib/python3.12/site-packages/sklearn/ensemble/_weight_boosting.py:527: FutureWarning: The SAMME.R algorithm (the default) is deprecated and will be removed in 1.6. Use the SAMME algorithm to circumvent this warning.\n",
      "  warnings.warn(\n",
      "/Users/cristianariel/miniconda3/lib/python3.12/site-packages/sklearn/ensemble/_weight_boosting.py:527: FutureWarning: The SAMME.R algorithm (the default) is deprecated and will be removed in 1.6. Use the SAMME algorithm to circumvent this warning.\n",
      "  warnings.warn(\n",
      "/Users/cristianariel/miniconda3/lib/python3.12/site-packages/sklearn/ensemble/_weight_boosting.py:527: FutureWarning: The SAMME.R algorithm (the default) is deprecated and will be removed in 1.6. Use the SAMME algorithm to circumvent this warning.\n",
      "  warnings.warn(\n",
      "/Users/cristianariel/miniconda3/lib/python3.12/site-packages/sklearn/ensemble/_weight_boosting.py:527: FutureWarning: The SAMME.R algorithm (the default) is deprecated and will be removed in 1.6. Use the SAMME algorithm to circumvent this warning.\n",
      "  warnings.warn(\n",
      "/Users/cristianariel/miniconda3/lib/python3.12/site-packages/sklearn/ensemble/_weight_boosting.py:527: FutureWarning: The SAMME.R algorithm (the default) is deprecated and will be removed in 1.6. Use the SAMME algorithm to circumvent this warning.\n",
      "  warnings.warn(\n",
      "/Users/cristianariel/miniconda3/lib/python3.12/site-packages/sklearn/ensemble/_weight_boosting.py:527: FutureWarning: The SAMME.R algorithm (the default) is deprecated and will be removed in 1.6. Use the SAMME algorithm to circumvent this warning.\n",
      "  warnings.warn(\n",
      "/Users/cristianariel/miniconda3/lib/python3.12/site-packages/sklearn/ensemble/_weight_boosting.py:527: FutureWarning: The SAMME.R algorithm (the default) is deprecated and will be removed in 1.6. Use the SAMME algorithm to circumvent this warning.\n",
      "  warnings.warn(\n",
      "/Users/cristianariel/miniconda3/lib/python3.12/site-packages/sklearn/ensemble/_weight_boosting.py:527: FutureWarning: The SAMME.R algorithm (the default) is deprecated and will be removed in 1.6. Use the SAMME algorithm to circumvent this warning.\n",
      "  warnings.warn(\n",
      "/Users/cristianariel/miniconda3/lib/python3.12/site-packages/sklearn/ensemble/_weight_boosting.py:527: FutureWarning: The SAMME.R algorithm (the default) is deprecated and will be removed in 1.6. Use the SAMME algorithm to circumvent this warning.\n",
      "  warnings.warn(\n",
      "/Users/cristianariel/miniconda3/lib/python3.12/site-packages/sklearn/ensemble/_weight_boosting.py:527: FutureWarning: The SAMME.R algorithm (the default) is deprecated and will be removed in 1.6. Use the SAMME algorithm to circumvent this warning.\n",
      "  warnings.warn(\n",
      "/Users/cristianariel/miniconda3/lib/python3.12/site-packages/sklearn/ensemble/_weight_boosting.py:527: FutureWarning: The SAMME.R algorithm (the default) is deprecated and will be removed in 1.6. Use the SAMME algorithm to circumvent this warning.\n",
      "  warnings.warn(\n",
      "/Users/cristianariel/miniconda3/lib/python3.12/site-packages/sklearn/ensemble/_weight_boosting.py:527: FutureWarning: The SAMME.R algorithm (the default) is deprecated and will be removed in 1.6. Use the SAMME algorithm to circumvent this warning.\n",
      "  warnings.warn(\n",
      "/Users/cristianariel/miniconda3/lib/python3.12/site-packages/sklearn/ensemble/_weight_boosting.py:527: FutureWarning: The SAMME.R algorithm (the default) is deprecated and will be removed in 1.6. Use the SAMME algorithm to circumvent this warning.\n",
      "  warnings.warn(\n",
      "/Users/cristianariel/miniconda3/lib/python3.12/site-packages/sklearn/ensemble/_weight_boosting.py:527: FutureWarning: The SAMME.R algorithm (the default) is deprecated and will be removed in 1.6. Use the SAMME algorithm to circumvent this warning.\n",
      "  warnings.warn(\n",
      "/Users/cristianariel/miniconda3/lib/python3.12/site-packages/sklearn/ensemble/_weight_boosting.py:527: FutureWarning: The SAMME.R algorithm (the default) is deprecated and will be removed in 1.6. Use the SAMME algorithm to circumvent this warning.\n",
      "  warnings.warn(\n",
      "/Users/cristianariel/miniconda3/lib/python3.12/site-packages/sklearn/ensemble/_weight_boosting.py:527: FutureWarning: The SAMME.R algorithm (the default) is deprecated and will be removed in 1.6. Use the SAMME algorithm to circumvent this warning.\n",
      "  warnings.warn(\n",
      "/Users/cristianariel/miniconda3/lib/python3.12/site-packages/sklearn/ensemble/_weight_boosting.py:527: FutureWarning: The SAMME.R algorithm (the default) is deprecated and will be removed in 1.6. Use the SAMME algorithm to circumvent this warning.\n",
      "  warnings.warn(\n",
      "/Users/cristianariel/miniconda3/lib/python3.12/site-packages/sklearn/ensemble/_weight_boosting.py:527: FutureWarning: The SAMME.R algorithm (the default) is deprecated and will be removed in 1.6. Use the SAMME algorithm to circumvent this warning.\n",
      "  warnings.warn(\n",
      "/Users/cristianariel/miniconda3/lib/python3.12/site-packages/sklearn/ensemble/_weight_boosting.py:527: FutureWarning: The SAMME.R algorithm (the default) is deprecated and will be removed in 1.6. Use the SAMME algorithm to circumvent this warning.\n",
      "  warnings.warn(\n",
      "/Users/cristianariel/miniconda3/lib/python3.12/site-packages/sklearn/ensemble/_weight_boosting.py:527: FutureWarning: The SAMME.R algorithm (the default) is deprecated and will be removed in 1.6. Use the SAMME algorithm to circumvent this warning.\n",
      "  warnings.warn(\n",
      "/Users/cristianariel/miniconda3/lib/python3.12/site-packages/sklearn/ensemble/_weight_boosting.py:527: FutureWarning: The SAMME.R algorithm (the default) is deprecated and will be removed in 1.6. Use the SAMME algorithm to circumvent this warning.\n",
      "  warnings.warn(\n",
      "/Users/cristianariel/miniconda3/lib/python3.12/site-packages/sklearn/ensemble/_weight_boosting.py:527: FutureWarning: The SAMME.R algorithm (the default) is deprecated and will be removed in 1.6. Use the SAMME algorithm to circumvent this warning.\n",
      "  warnings.warn(\n",
      "/Users/cristianariel/miniconda3/lib/python3.12/site-packages/sklearn/ensemble/_weight_boosting.py:527: FutureWarning: The SAMME.R algorithm (the default) is deprecated and will be removed in 1.6. Use the SAMME algorithm to circumvent this warning.\n",
      "  warnings.warn(\n",
      "/Users/cristianariel/miniconda3/lib/python3.12/site-packages/sklearn/ensemble/_weight_boosting.py:527: FutureWarning: The SAMME.R algorithm (the default) is deprecated and will be removed in 1.6. Use the SAMME algorithm to circumvent this warning.\n",
      "  warnings.warn(\n",
      "/Users/cristianariel/miniconda3/lib/python3.12/site-packages/sklearn/ensemble/_weight_boosting.py:527: FutureWarning: The SAMME.R algorithm (the default) is deprecated and will be removed in 1.6. Use the SAMME algorithm to circumvent this warning.\n",
      "  warnings.warn(\n",
      "/Users/cristianariel/miniconda3/lib/python3.12/site-packages/sklearn/ensemble/_weight_boosting.py:527: FutureWarning: The SAMME.R algorithm (the default) is deprecated and will be removed in 1.6. Use the SAMME algorithm to circumvent this warning.\n",
      "  warnings.warn(\n",
      "/Users/cristianariel/miniconda3/lib/python3.12/site-packages/sklearn/ensemble/_weight_boosting.py:527: FutureWarning: The SAMME.R algorithm (the default) is deprecated and will be removed in 1.6. Use the SAMME algorithm to circumvent this warning.\n",
      "  warnings.warn(\n",
      "/Users/cristianariel/miniconda3/lib/python3.12/site-packages/sklearn/ensemble/_weight_boosting.py:527: FutureWarning: The SAMME.R algorithm (the default) is deprecated and will be removed in 1.6. Use the SAMME algorithm to circumvent this warning.\n",
      "  warnings.warn(\n",
      "/Users/cristianariel/miniconda3/lib/python3.12/site-packages/sklearn/ensemble/_weight_boosting.py:527: FutureWarning: The SAMME.R algorithm (the default) is deprecated and will be removed in 1.6. Use the SAMME algorithm to circumvent this warning.\n",
      "  warnings.warn(\n",
      "/Users/cristianariel/miniconda3/lib/python3.12/site-packages/sklearn/ensemble/_weight_boosting.py:527: FutureWarning: The SAMME.R algorithm (the default) is deprecated and will be removed in 1.6. Use the SAMME algorithm to circumvent this warning.\n",
      "  warnings.warn(\n",
      "/Users/cristianariel/miniconda3/lib/python3.12/site-packages/sklearn/ensemble/_weight_boosting.py:527: FutureWarning: The SAMME.R algorithm (the default) is deprecated and will be removed in 1.6. Use the SAMME algorithm to circumvent this warning.\n",
      "  warnings.warn(\n",
      "/Users/cristianariel/miniconda3/lib/python3.12/site-packages/sklearn/ensemble/_weight_boosting.py:527: FutureWarning: The SAMME.R algorithm (the default) is deprecated and will be removed in 1.6. Use the SAMME algorithm to circumvent this warning.\n",
      "  warnings.warn(\n",
      "/Users/cristianariel/miniconda3/lib/python3.12/site-packages/sklearn/ensemble/_weight_boosting.py:527: FutureWarning: The SAMME.R algorithm (the default) is deprecated and will be removed in 1.6. Use the SAMME algorithm to circumvent this warning.\n",
      "  warnings.warn(\n",
      "/Users/cristianariel/miniconda3/lib/python3.12/site-packages/sklearn/ensemble/_weight_boosting.py:527: FutureWarning: The SAMME.R algorithm (the default) is deprecated and will be removed in 1.6. Use the SAMME algorithm to circumvent this warning.\n",
      "  warnings.warn(\n",
      "/Users/cristianariel/miniconda3/lib/python3.12/site-packages/sklearn/ensemble/_weight_boosting.py:527: FutureWarning: The SAMME.R algorithm (the default) is deprecated and will be removed in 1.6. Use the SAMME algorithm to circumvent this warning.\n",
      "  warnings.warn(\n",
      "/Users/cristianariel/miniconda3/lib/python3.12/site-packages/sklearn/ensemble/_weight_boosting.py:527: FutureWarning: The SAMME.R algorithm (the default) is deprecated and will be removed in 1.6. Use the SAMME algorithm to circumvent this warning.\n",
      "  warnings.warn(\n",
      "/Users/cristianariel/miniconda3/lib/python3.12/site-packages/sklearn/ensemble/_weight_boosting.py:527: FutureWarning: The SAMME.R algorithm (the default) is deprecated and will be removed in 1.6. Use the SAMME algorithm to circumvent this warning.\n",
      "  warnings.warn(\n",
      "/Users/cristianariel/miniconda3/lib/python3.12/site-packages/sklearn/ensemble/_weight_boosting.py:527: FutureWarning: The SAMME.R algorithm (the default) is deprecated and will be removed in 1.6. Use the SAMME algorithm to circumvent this warning.\n",
      "  warnings.warn(\n",
      "/Users/cristianariel/miniconda3/lib/python3.12/site-packages/sklearn/ensemble/_weight_boosting.py:527: FutureWarning: The SAMME.R algorithm (the default) is deprecated and will be removed in 1.6. Use the SAMME algorithm to circumvent this warning.\n",
      "  warnings.warn(\n",
      "/Users/cristianariel/miniconda3/lib/python3.12/site-packages/sklearn/ensemble/_weight_boosting.py:527: FutureWarning: The SAMME.R algorithm (the default) is deprecated and will be removed in 1.6. Use the SAMME algorithm to circumvent this warning.\n",
      "  warnings.warn(\n",
      "/Users/cristianariel/miniconda3/lib/python3.12/site-packages/sklearn/ensemble/_weight_boosting.py:527: FutureWarning: The SAMME.R algorithm (the default) is deprecated and will be removed in 1.6. Use the SAMME algorithm to circumvent this warning.\n",
      "  warnings.warn(\n",
      "/Users/cristianariel/miniconda3/lib/python3.12/site-packages/sklearn/ensemble/_weight_boosting.py:527: FutureWarning: The SAMME.R algorithm (the default) is deprecated and will be removed in 1.6. Use the SAMME algorithm to circumvent this warning.\n",
      "  warnings.warn(\n",
      "/Users/cristianariel/miniconda3/lib/python3.12/site-packages/sklearn/ensemble/_weight_boosting.py:527: FutureWarning: The SAMME.R algorithm (the default) is deprecated and will be removed in 1.6. Use the SAMME algorithm to circumvent this warning.\n",
      "  warnings.warn(\n",
      "/Users/cristianariel/miniconda3/lib/python3.12/site-packages/sklearn/ensemble/_weight_boosting.py:527: FutureWarning: The SAMME.R algorithm (the default) is deprecated and will be removed in 1.6. Use the SAMME algorithm to circumvent this warning.\n",
      "  warnings.warn(\n",
      "/Users/cristianariel/miniconda3/lib/python3.12/site-packages/sklearn/ensemble/_weight_boosting.py:527: FutureWarning: The SAMME.R algorithm (the default) is deprecated and will be removed in 1.6. Use the SAMME algorithm to circumvent this warning.\n",
      "  warnings.warn(\n",
      "/Users/cristianariel/miniconda3/lib/python3.12/site-packages/sklearn/ensemble/_weight_boosting.py:527: FutureWarning: The SAMME.R algorithm (the default) is deprecated and will be removed in 1.6. Use the SAMME algorithm to circumvent this warning.\n",
      "  warnings.warn(\n",
      "/Users/cristianariel/miniconda3/lib/python3.12/site-packages/sklearn/ensemble/_weight_boosting.py:527: FutureWarning: The SAMME.R algorithm (the default) is deprecated and will be removed in 1.6. Use the SAMME algorithm to circumvent this warning.\n",
      "  warnings.warn(\n",
      "/Users/cristianariel/miniconda3/lib/python3.12/site-packages/sklearn/ensemble/_weight_boosting.py:527: FutureWarning: The SAMME.R algorithm (the default) is deprecated and will be removed in 1.6. Use the SAMME algorithm to circumvent this warning.\n",
      "  warnings.warn(\n",
      "/Users/cristianariel/miniconda3/lib/python3.12/site-packages/sklearn/ensemble/_weight_boosting.py:527: FutureWarning: The SAMME.R algorithm (the default) is deprecated and will be removed in 1.6. Use the SAMME algorithm to circumvent this warning.\n",
      "  warnings.warn(\n",
      "/Users/cristianariel/miniconda3/lib/python3.12/site-packages/sklearn/ensemble/_weight_boosting.py:527: FutureWarning: The SAMME.R algorithm (the default) is deprecated and will be removed in 1.6. Use the SAMME algorithm to circumvent this warning.\n",
      "  warnings.warn(\n",
      "/Users/cristianariel/miniconda3/lib/python3.12/site-packages/sklearn/ensemble/_weight_boosting.py:527: FutureWarning: The SAMME.R algorithm (the default) is deprecated and will be removed in 1.6. Use the SAMME algorithm to circumvent this warning.\n",
      "  warnings.warn(\n",
      "/Users/cristianariel/miniconda3/lib/python3.12/site-packages/sklearn/ensemble/_weight_boosting.py:527: FutureWarning: The SAMME.R algorithm (the default) is deprecated and will be removed in 1.6. Use the SAMME algorithm to circumvent this warning.\n",
      "  warnings.warn(\n",
      "/Users/cristianariel/miniconda3/lib/python3.12/site-packages/sklearn/ensemble/_weight_boosting.py:527: FutureWarning: The SAMME.R algorithm (the default) is deprecated and will be removed in 1.6. Use the SAMME algorithm to circumvent this warning.\n",
      "  warnings.warn(\n",
      "/Users/cristianariel/miniconda3/lib/python3.12/site-packages/sklearn/ensemble/_weight_boosting.py:527: FutureWarning: The SAMME.R algorithm (the default) is deprecated and will be removed in 1.6. Use the SAMME algorithm to circumvent this warning.\n",
      "  warnings.warn(\n",
      "/Users/cristianariel/miniconda3/lib/python3.12/site-packages/sklearn/ensemble/_weight_boosting.py:527: FutureWarning: The SAMME.R algorithm (the default) is deprecated and will be removed in 1.6. Use the SAMME algorithm to circumvent this warning.\n",
      "  warnings.warn(\n"
     ]
    }
   ],
   "source": [
    "ada_boost_best_params_grid = grid_search_function(model=AdaBoostClassifier_model, param_grid=ada_boost_params_grid, X_train=X_train,y_train=y_train)"
   ]
  },
  {
   "cell_type": "code",
   "execution_count": 488,
   "metadata": {},
   "outputs": [
    {
     "name": "stderr",
     "output_type": "stream",
     "text": [
      "/Users/cristianariel/miniconda3/lib/python3.12/site-packages/sklearn/ensemble/_weight_boosting.py:527: FutureWarning: The SAMME.R algorithm (the default) is deprecated and will be removed in 1.6. Use the SAMME algorithm to circumvent this warning.\n",
      "  warnings.warn(\n"
     ]
    }
   ],
   "source": [
    "AdaBoostClassifier_model = train(model=AdaBoostClassifier_model, best_params=ada_boost_best_params_grid)"
   ]
  },
  {
   "cell_type": "code",
   "execution_count": 489,
   "metadata": {},
   "outputs": [
    {
     "name": "stdout",
     "output_type": "stream",
     "text": [
      "Precisión del modelo: 0.9036173828599174\n"
     ]
    }
   ],
   "source": [
    "y_pred = test(model=AdaBoostClassifier_model, is_classification=True)"
   ]
  },
  {
   "cell_type": "markdown",
   "metadata": {},
   "source": [
    "**Modelo 2: XGBoost**\n"
   ]
  },
  {
   "cell_type": "code",
   "execution_count": 490,
   "metadata": {},
   "outputs": [],
   "source": [
    "# Definir el modelo\n",
    "xgb_model = xgb.XGBClassifier()\n",
    "\n",
    "# Definir el grid de parámetros\n",
    "xgb_params_grid = {\n",
    "    'classify__n_estimators': [100, 200],\n",
    "    'classify__learning_rate': [0.01, 0.1, 0.2],\n",
    "    'classify__max_depth': [3, 5, 7],\n",
    "    'classify__subsample': [0.8, 1.0],\n",
    "    'classify__colsample_bytree': [0.8, 1.0]\n",
    "}"
   ]
  },
  {
   "cell_type": "code",
   "execution_count": 491,
   "metadata": {},
   "outputs": [],
   "source": [
    "xgb_best_params_grid = grid_search_function(model= xgb_model, param_grid=xgb_params_grid, X_train=X_train, y_train=y_train)"
   ]
  },
  {
   "cell_type": "code",
   "execution_count": 492,
   "metadata": {},
   "outputs": [],
   "source": [
    "xgb_model = train(model=xgb_model, best_params=xgb_best_params_grid)"
   ]
  },
  {
   "cell_type": "code",
   "execution_count": 493,
   "metadata": {},
   "outputs": [
    {
     "name": "stdout",
     "output_type": "stream",
     "text": [
      "Precisión del modelo: 0.9009468317552805\n"
     ]
    }
   ],
   "source": [
    "y_pred = test(model=extra_trees_model, is_classification=True)"
   ]
  },
  {
   "cell_type": "code",
   "execution_count": 494,
   "metadata": {},
   "outputs": [
    {
     "data": {
      "image/png": "[encoded data removed]",
      "text/plain": [
       "<Figure size 640x480 with 1 Axes>"
      ]
     },
     "metadata": {},
     "output_type": "display_data"
    }
   ],
   "source": [
    "# Importancia de las características\n",
    "xgb.plot_importance(xgb_model)\n",
    "plt.show()"
   ]
  },
  {
   "cell_type": "markdown",
   "metadata": {},
   "source": [
    "**Modelo 3: Stochastic Gradient Boosting**"
   ]
  },
  {
   "cell_type": "code",
   "execution_count": 495,
   "metadata": {},
   "outputs": [],
   "source": [
    "# Definir el modelo\n",
    "sgb_model = GradientBoostingClassifier(random_state=42)\n",
    "\n",
    "# Definir el grid de parámetros\n",
    "sgb_params_grid = {\n",
    "    'classify__n_estimators': [100, 200],\n",
    "    'classify__learning_rate': [0.01, 0.1, 0.2],\n",
    "    'classify__max_depth': [3, 4, 5],\n",
    "    'classify__subsample': [0.8, 1.0]\n",
    "}"
   ]
  },
  {
   "cell_type": "code",
   "execution_count": 496,
   "metadata": {},
   "outputs": [],
   "source": [
    "sgb_best_params_grid = grid_search_function(model= sgb_model, param_grid=sgb_params_grid, X_train=X_train, y_train=y_train)"
   ]
  },
  {
   "cell_type": "code",
   "execution_count": 497,
   "metadata": {},
   "outputs": [],
   "source": [
    "xgb_model = train(model=xgb_model, best_params=xgb_best_params_grid)"
   ]
  },
  {
   "cell_type": "code",
   "execution_count": 498,
   "metadata": {},
   "outputs": [
    {
     "name": "stdout",
     "output_type": "stream",
     "text": [
      "Precisión del modelo: 0.9009468317552805\n"
     ]
    }
   ],
   "source": [
    "y_pred = test(model=extra_trees_model, is_classification=True)"
   ]
  },
  {
   "cell_type": "markdown",
   "metadata": {},
   "source": [
    "#### Vooting"
   ]
  },
  {
   "cell_type": "markdown",
   "metadata": {},
   "source": [
    "**Modelo 1: Hard Voting:**"
   ]
  },
  {
   "cell_type": "code",
   "execution_count": 499,
   "metadata": {},
   "outputs": [],
   "source": [
    "# Crear un VotingClassifier con hard voting\n",
    "voting_clf_hard_model = VotingClassifier(estimators=[('rf', random_forest_model), ('xgb', xgb_model)],\n",
    "                              voting='hard') "
   ]
  },
  {
   "cell_type": "code",
   "execution_count": 500,
   "metadata": {},
   "outputs": [],
   "source": [
    "voting_clf_hard_model = train(model= voting_clf_hard_model)"
   ]
  },
  {
   "cell_type": "code",
   "execution_count": 501,
   "metadata": {},
   "outputs": [
    {
     "name": "stdout",
     "output_type": "stream",
     "text": [
      "Precisión del modelo: 0.9031318281136198\n"
     ]
    }
   ],
   "source": [
    "y_pred = test(model=voting_clf_hard_model, is_classification=True)"
   ]
  },
  {
   "cell_type": "markdown",
   "metadata": {},
   "source": [
    "**Modelo 2: Soft Voting**"
   ]
  },
  {
   "cell_type": "code",
   "execution_count": 502,
   "metadata": {},
   "outputs": [],
   "source": [
    "voting_clf_soft_model = VotingClassifier(estimators=[('rf', random_forest_model), ('xgb', xgb_model)],\n",
    "                              voting='soft',\n",
    "                              weights=[1, 1]) "
   ]
  },
  {
   "cell_type": "code",
   "execution_count": 503,
   "metadata": {},
   "outputs": [],
   "source": [
    "voting_clf_soft_model = train(model= voting_clf_soft_model)"
   ]
  },
  {
   "cell_type": "code",
   "execution_count": 504,
   "metadata": {},
   "outputs": [
    {
     "name": "stdout",
     "output_type": "stream",
     "text": [
      "Precisión del modelo: 0.9033746054867686\n"
     ]
    }
   ],
   "source": [
    "y_pred = test(model=voting_clf_soft_model, is_classification=True)"
   ]
  },
  {
   "cell_type": "markdown",
   "metadata": {},
   "source": [
    "### Deep learning"
   ]
  },
  {
   "cell_type": "markdown",
   "metadata": {},
   "source": [
    "#### DNN"
   ]
  },
  {
   "cell_type": "markdown",
   "metadata": {},
   "source": [
    "*Construccion de la RNA*"
   ]
  },
  {
   "cell_type": "code",
   "execution_count": 505,
   "metadata": {},
   "outputs": [
    {
     "name": "stdout",
     "output_type": "stream",
     "text": [
      "Reloading Tuner from my_dir/keras_tuner_demo/tuner0.json\n",
      "\n",
      "Mejores hiperparámetros:\n",
      "Número de capas ocultas: 2\n",
      "Activación: leaky_relu\n",
      "Unidades por capa: [128, 32]\n",
      "Dropout: [False, False]\n",
      "Learning rate: 0.009\n",
      "\n",
      "Epoch 1/50\n",
      "\u001b[1m1030/1030\u001b[0m \u001b[32m━━━━━━━━━━━━━━━━━━━━\u001b[0m\u001b[37m\u001b[0m \u001b[1m2s\u001b[0m 796us/step - Precision: 0.5616 - accuracy: 0.8902 - loss: 0.3273 - val_Precision: 0.7024 - val_accuracy: 0.9017 - val_loss: 0.2740\n",
      "Epoch 2/50\n",
      "\u001b[1m1030/1030\u001b[0m \u001b[32m━━━━━━━━━━━━━━━━━━━━\u001b[0m\u001b[37m\u001b[0m \u001b[1m1s\u001b[0m 625us/step - Precision: 0.6463 - accuracy: 0.8911 - loss: 0.3019 - val_Precision: 0.4477 - val_accuracy: 0.8847 - val_loss: 0.2873\n",
      "Epoch 3/50\n",
      "\u001b[1m1030/1030\u001b[0m \u001b[32m━━━━━━━━━━━━━━━━━━━━\u001b[0m\u001b[37m\u001b[0m \u001b[1m1s\u001b[0m 606us/step - Precision: 0.6027 - accuracy: 0.8919 - loss: 0.2915 - val_Precision: 0.6475 - val_accuracy: 0.9022 - val_loss: 0.2730\n",
      "Epoch 4/50\n",
      "\u001b[1m1030/1030\u001b[0m \u001b[32m━━━━━━━━━━━━━━━━━━━━\u001b[0m\u001b[37m\u001b[0m \u001b[1m1s\u001b[0m 664us/step - Precision: 0.6710 - accuracy: 0.8946 - loss: 0.2927 - val_Precision: 0.6260 - val_accuracy: 0.9014 - val_loss: 0.2754\n",
      "Epoch 5/50\n",
      "\u001b[1m1030/1030\u001b[0m \u001b[32m━━━━━━━━━━━━━━━━━━━━\u001b[0m\u001b[37m\u001b[0m \u001b[1m1s\u001b[0m 812us/step - Precision: 0.6593 - accuracy: 0.9004 - loss: 0.2776 - val_Precision: 0.6875 - val_accuracy: 0.9036 - val_loss: 0.2846\n",
      "Epoch 6/50\n",
      "\u001b[1m1030/1030\u001b[0m \u001b[32m━━━━━━━━━━━━━━━━━━━━\u001b[0m\u001b[37m\u001b[0m \u001b[1m1s\u001b[0m 607us/step - Precision: 0.6543 - accuracy: 0.8947 - loss: 0.2846 - val_Precision: 0.7500 - val_accuracy: 0.8992 - val_loss: 0.2740\n",
      "Epoch 7/50\n",
      "\u001b[1m1030/1030\u001b[0m \u001b[32m━━━━━━━━━━━━━━━━━━━━\u001b[0m\u001b[37m\u001b[0m \u001b[1m1s\u001b[0m 611us/step - Precision: 0.6580 - accuracy: 0.8928 - loss: 0.2915 - val_Precision: 0.7826 - val_accuracy: 0.8997 - val_loss: 0.2718\n",
      "Epoch 8/50\n",
      "\u001b[1m1030/1030\u001b[0m \u001b[32m━━━━━━━━━━━━━━━━━━━━\u001b[0m\u001b[37m\u001b[0m \u001b[1m1s\u001b[0m 610us/step - Precision: 0.6443 - accuracy: 0.8948 - loss: 0.2897 - val_Precision: 0.5276 - val_accuracy: 0.8961 - val_loss: 0.2887\n",
      "Epoch 9/50\n",
      "\u001b[1m1030/1030\u001b[0m \u001b[32m━━━━━━━━━━━━━━━━━━━━\u001b[0m\u001b[37m\u001b[0m \u001b[1m1s\u001b[0m 602us/step - Precision: 0.6659 - accuracy: 0.8970 - loss: 0.2872 - val_Precision: 0.6154 - val_accuracy: 0.9007 - val_loss: 0.2705\n",
      "Epoch 10/50\n",
      "\u001b[1m1030/1030\u001b[0m \u001b[32m━━━━━━━━━━━━━━━━━━━━\u001b[0m\u001b[37m\u001b[0m \u001b[1m1s\u001b[0m 607us/step - Precision: 0.6367 - accuracy: 0.8941 - loss: 0.2831 - val_Precision: 0.6780 - val_accuracy: 0.9036 - val_loss: 0.2661\n",
      "Epoch 11/50\n",
      "\u001b[1m1030/1030\u001b[0m \u001b[32m━━━━━━━━━━━━━━━━━━━━\u001b[0m\u001b[37m\u001b[0m \u001b[1m1s\u001b[0m 616us/step - Precision: 0.6545 - accuracy: 0.8959 - loss: 0.2827 - val_Precision: 0.6567 - val_accuracy: 0.9036 - val_loss: 0.2697\n",
      "Epoch 12/50\n",
      "\u001b[1m1030/1030\u001b[0m \u001b[32m━━━━━━━━━━━━━━━━━━━━\u001b[0m\u001b[37m\u001b[0m \u001b[1m1s\u001b[0m 596us/step - Precision: 0.6442 - accuracy: 0.8927 - loss: 0.2914 - val_Precision: 0.5396 - val_accuracy: 0.8973 - val_loss: 0.2723\n",
      "Epoch 13/50\n",
      "\u001b[1m1030/1030\u001b[0m \u001b[32m━━━━━━━━━━━━━━━━━━━━\u001b[0m\u001b[37m\u001b[0m \u001b[1m1s\u001b[0m 599us/step - Precision: 0.6172 - accuracy: 0.8949 - loss: 0.2807 - val_Precision: 0.6875 - val_accuracy: 0.9036 - val_loss: 0.2673\n",
      "Epoch 14/50\n",
      "\u001b[1m1030/1030\u001b[0m \u001b[32m━━━━━━━━━━━━━━━━━━━━\u001b[0m\u001b[37m\u001b[0m \u001b[1m1s\u001b[0m 595us/step - Precision: 0.6538 - accuracy: 0.8974 - loss: 0.2857 - val_Precision: 0.6304 - val_accuracy: 0.9022 - val_loss: 0.2673\n",
      "Epoch 15/50\n",
      "\u001b[1m1030/1030\u001b[0m \u001b[32m━━━━━━━━━━━━━━━━━━━━\u001b[0m\u001b[37m\u001b[0m \u001b[1m1s\u001b[0m 594us/step - Precision: 0.6215 - accuracy: 0.8954 - loss: 0.2834 - val_Precision: 0.7407 - val_accuracy: 0.9029 - val_loss: 0.2688\n"
     ]
    },
    {
     "data": {
      "text/plain": [
       "<keras.src.callbacks.history.History at 0x3a999f920>"
      ]
     },
     "execution_count": 505,
     "metadata": {},
     "output_type": "execute_result"
    }
   ],
   "source": [
    "# Configura el hiperparámetro de entrada\n",
    "input_shape = X_train.shape[1]  # Cambia esto al número de características en tu dataset\n",
    "task = \"classification\"  # O usa \"regression\" si tu tarea es de regresión\n",
    "num_classes = 1  # Cambia esto al número de clases (para clasificación)\n",
    "\n",
    "# Define el tuner\n",
    "tuner = kt.Hyperband(\n",
    "    build_model,\n",
    "    objective='val_accuracy' if task == \"classification\" else 'val_mae',\n",
    "    max_epochs=50,\n",
    "    factor=3,\n",
    "    directory='my_dir',\n",
    "    project_name='keras_tuner_demo'\n",
    ")\n",
    "\n",
    "# Callback para early stopping\n",
    "stop_early = callbacks.EarlyStopping(monitor='val_loss', patience=5)\n",
    "\n",
    "# Realiza la búsqueda de hiperparámetros\n",
    "tuner.search(X_train, \n",
    "            y_train, \n",
    "            epochs=16, \n",
    "            validation_data=(X_val, y_val), \n",
    "            callbacks=[stop_early],\n",
    "            batch_size=32)\n",
    "\n",
    "# Obtén los mejores hiperparámetros\n",
    "best_hps = tuner.get_best_hyperparameters(num_trials=1)[0]\n",
    "\n",
    "print(f\"\"\"\n",
    "Mejores hiperparámetros:\n",
    "Número de capas ocultas: {best_hps.get('num_layers')}\n",
    "Activación: {best_hps.get('activation')}\n",
    "Unidades por capa: {[best_hps.get(f'units_{i}') for i in range(best_hps.get('num_layers'))]}\n",
    "Dropout: {[best_hps.get(f'use_dropout_{i}') for i in range(best_hps.get('num_layers'))]}\n",
    "Learning rate: {best_hps.get('learning_rate')}\n",
    "\"\"\")\n",
    "\n",
    "# Construye el modelo con los mejores hiperparámetros\n",
    "best_model = tuner.hypermodel.build(best_hps)\n",
    "\n",
    "# Entrena el modelo con los mejores hiperparámetros\n",
    "best_model.fit(X_train, y_train, epochs=50, validation_data=(X_val, y_val), callbacks=[stop_early])"
   ]
  },
  {
   "cell_type": "markdown",
   "metadata": {},
   "source": [
    "*Predicción con el subconjunto de datos de pruebas*"
   ]
  },
  {
   "cell_type": "code",
   "execution_count": 506,
   "metadata": {},
   "outputs": [
    {
     "name": "stdout",
     "output_type": "stream",
     "text": [
      "\u001b[1m129/129\u001b[0m \u001b[32m━━━━━━━━━━━━━━━━━━━━\u001b[0m\u001b[37m\u001b[0m \u001b[1m0s\u001b[0m 416us/step - Precision: 0.8045 - accuracy: 0.9009 - loss: 0.2841 \n"
     ]
    }
   ],
   "source": [
    "error, accuracy, precision = best_model.evaluate(X_test, y_test)"
   ]
  },
  {
   "cell_type": "code",
   "execution_count": 507,
   "metadata": {},
   "outputs": [
    {
     "name": "stdout",
     "output_type": "stream",
     "text": [
      "Error:  0.27437660098075867\n",
      "Accuracy:  0.90288907289505\n",
      "Precision:  0.7831325531005859\n"
     ]
    }
   ],
   "source": [
    "print(\"Error: \", error)\n",
    "print(\"Accuracy: \", accuracy)\n",
    "print(\"Precision: \", precision)"
   ]
  },
  {
   "cell_type": "markdown",
   "metadata": {},
   "source": [
    "### Guardado del mejor modelo"
   ]
  },
  {
   "cell_type": "code",
   "execution_count": 508,
   "metadata": {},
   "outputs": [
    {
     "data": {
      "text/plain": [
       "['../models/voting_clf_soft_model.pkl']"
      ]
     },
     "execution_count": 508,
     "metadata": {},
     "output_type": "execute_result"
    }
   ],
   "source": [
    "# Guardar el modelo entrenado en un archivo .pkl\n",
    "path_best_one_ml_model = '../models/voting_clf_soft_model.pkl'\n",
    "joblib.dump(voting_clf_soft_model, path_best_one_ml_model)"
   ]
  },
  {
   "cell_type": "code",
   "execution_count": 509,
   "metadata": {},
   "outputs": [
    {
     "data": {
      "text/plain": [
       "['../models/xgb_model.pkl']"
      ]
     },
     "execution_count": 509,
     "metadata": {},
     "output_type": "execute_result"
    }
   ],
   "source": [
    "path_best_two_ml_model = '../models/xgb_model.pkl'\n",
    "joblib.dump(xgb_model, path_best_two_ml_model)"
   ]
  },
  {
   "cell_type": "markdown",
   "metadata": {},
   "source": [
    "### Observaciones de esta etapa:\n",
    "Respecto a la prediccion de la variable target \"subscribed\", los modelos con mayor presicion son:\n",
    "En primer lugar el **modelo Soft Voting classifier con una presicion del 99.82%** y haciendo uso de XGBoost y Random forest.\n",
    "El segundo modelo que presenta el mayor porcentaje de precisión es el modelo de **XGBoost con una presicion del 83.91%.**"
   ]
  }
 ],
 "metadata": {
  "kernelspec": {
   "display_name": "base",
   "language": "python",
   "name": "python3"
  },
  "language_info": {
   "codemirror_mode": {
    "name": "ipython",
    "version": 3
   },
   "file_extension": ".py",
   "mimetype": "text/x-python",
   "name": "python",
   "nbconvert_exporter": "python",
   "pygments_lexer": "ipython3",
   "version": "3.12.5"
  }
 },
 "nbformat": 4,
 "nbformat_minor": 2
}
